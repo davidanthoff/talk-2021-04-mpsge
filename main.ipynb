{
 "cells": [
  {
   "cell_type": "code",
   "execution_count": 1,
   "metadata": {},
   "outputs": [],
   "source": [
    "using MPSGE"
   ]
  },
  {
   "cell_type": "code",
   "execution_count": 2,
   "metadata": {},
   "outputs": [
    {
     "data": {
      "text/plain": [
       "MPSGE model with 3 sectors, 5 commodities and 1 consumers.\n",
       "  Sectors: X (bm=1.0), Y (bm=1.0), U (bm=1.0)\n",
       "  Commodities: PX (bm=1.0), PY (bm=1.0), PU (bm=1.0), PL (bm=1.0), PK (bm=1.0)\n",
       "  Consumers: RA (bm=150.0)\n"
      ]
     },
     "execution_count": 2,
     "metadata": {},
     "output_type": "execute_result"
    }
   ],
   "source": [
    "m = Model()\n",
    "\n",
    "@parameter(m, endow, 1.0)\n",
    "\n",
    "@sector(m, X)\n",
    "@sector(m, Y)\n",
    "@sector(m, U)\n",
    "\n",
    "@commodity(m, PX)\n",
    "@commodity(m, PY)\n",
    "@commodity(m, PU)\n",
    "@commodity(m, PL)\n",
    "@commodity(m, PK)\n",
    "\n",
    "@consumer(m, RA, benchmark=150.)\n",
    "\n",
    "@production(m, X, 1, PX, 100, [Input(PL, 50), Input(PK, 50)])\n",
    "@production(m, Y, 1, PY, 50, [Input(PL, 20), Input(PK, 30)])\n",
    "@production(m, U, 1, PU, 150, [Input(PX, 100), Input(PY, 50)])\n",
    "\n",
    "@demand(m, RA, PU, [Endowment(PL, :(70 * $endow)), Endowment(PK, 80.)])"
   ]
  },
  {
   "cell_type": "code",
   "execution_count": 3,
   "metadata": {},
   "outputs": [
    {
     "name": "stdout",
     "output_type": "stream",
     "text": [
      "Reading options file C:\\Users\\david\\AppData\\Local\\Temp\\jl_4776.tmp\n",
      " > cumulative_iteration_limit 0\n",
      "Read of options file complete.\n",
      "\n",
      "Path 5.0.03 (Fri Jun 26 10:05:33 2020)\n",
      "Written by Todd Munson, Steven Dirkse, Youngdae Kim, and Michael Ferris\n",
      "\n",
      "Major Iteration Log\n",
      "major minor  func  grad  residual    step  type prox    inorm  (label)\n",
      "    0     0     1     1 0.0000e+00           I 0.0e+00 0.0e+00 (F_X)\n",
      "\n",
      "Major Iterations. . . . 0\n",
      "Minor Iterations. . . . 0\n",
      "Restarts. . . . . . . . 0\n",
      "Crash Iterations. . . . 0\n",
      "Gradient Steps. . . . . 0\n",
      "Function Evaluations. . 1\n",
      "Gradient Evaluations. . 1\n",
      "Basis Time. . . . . . . 0.000000\n",
      "Total Time. . . . . . . 0.062000\n",
      "Residual. . . . . . . . 0.000000e+00\n"
     ]
    },
    {
     "data": {
      "text/plain": [
       "MPSGE model with 3 sectors, 5 commodities and 1 consumers.\n",
       "  Sectors: X (bm=1.0), Y (bm=1.0), U (bm=1.0)\n",
       "  Commodities: PX (bm=1.0), PY (bm=1.0), PU (bm=1.0), PL (bm=1.0), PK (bm=1.0)\n",
       "  Consumers: RA (bm=150.0)\n",
       "Solution:\n",
       "  X:\t1.0\n",
       "  Y:\t1.0\n",
       "  U:\t1.0\n",
       "  PX:\t1.0\n",
       "  PY:\t1.0\n",
       "  PU:\t1.0\n",
       "  PL:\t1.0\n",
       "  PK:\t1.0\n",
       "  PLPX:\t50.0\n",
       "  PKPX:\t50.0\n",
       "  PLPY:\t20.0\n",
       "  PKPY:\t30.0\n",
       "  PXPU:\t100.0\n",
       "  PYPU:\t50.0\n",
       "  RA:\t150.0\n"
      ]
     },
     "execution_count": 3,
     "metadata": {},
     "output_type": "execute_result"
    }
   ],
   "source": [
    "solve!(m, cumulative_iteration_limit=0)"
   ]
  },
  {
   "cell_type": "code",
   "execution_count": 4,
   "metadata": {},
   "outputs": [
    {
     "name": "stdout",
     "output_type": "stream",
     "text": [
      "Path 5.0.03 (Fri Jun 26 10:05:33 2020)\n",
      "Written by Todd Munson, Steven Dirkse, Youngdae Kim, and Michael Ferris\n",
      "\n",
      "Crash Log\n",
      "major  func  diff  size  residual    step       prox   (label)\n",
      "    0     0             1.4828e+01             0.0e+00 (F_PL)\n",
      "    1     1     0    15 6.0442e-01  1.0e+00    0.0e+00 (F_PU)\n",
      "pn_search terminated: no basis change.\n",
      "\n",
      "Major Iteration Log\n",
      "major minor  func  grad  residual    step  type prox    inorm  (label)\n",
      "    0     0     2     2 6.0442e-01           I 0.0e+00 4.1e-01 (F_PU)\n",
      "    1     1     3     3 3.7495e-04  1.0e+00 SO 0.0e+00 3.0e-04 (F_PK)\n",
      "    2     1     4     4 1.9273e-08  1.0e+00 SO 0.0e+00 1.3e-08 (F_PLPX)\n",
      "\n",
      "Major Iterations. . . . 2\n",
      "Minor Iterations. . . . 2\n",
      "Restarts. . . . . . . . 0\n",
      "Crash Iterations. . . . 1\n",
      "Gradient Steps. . . . . 0\n",
      "Function Evaluations. . 4\n",
      "Gradient Evaluations. . 4\n",
      "Basis Time. . . . . . . 0.000000\n",
      "Total Time. . . . . . . 0.000000\n",
      "Residual. . . . . . . . 1.927298e-08\n"
     ]
    },
    {
     "data": {
      "text/plain": [
       "MPSGE model with 3 sectors, 5 commodities and 1 consumers.\n",
       "  Sectors: X (bm=1.0), Y (bm=1.0), U (bm=1.0)\n",
       "  Commodities: PX (bm=1.0), PY (bm=1.0), PU (bm=1.0), PL (bm=1.0), PK (bm=1.0)\n",
       "  Consumers: RA (bm=150.0)\n",
       "Solution:\n",
       "  X:\t1.048808848173496\n",
       "  Y:\t1.038860118257079\n",
       "  U:\t1.0454820635822557\n",
       "  PX:\t1.048856610774173\n",
       "  PY:\t1.0589010729788217\n",
       "  PU:\t1.0521941333870226\n",
       "  PL:\t1.000045539613954\n",
       "  PK:\t1.1000500941011886\n",
       "  PLPX:\t52.44044240818331\n",
       "  PKPX:\t47.67312946227609\n",
       "  PLPY:\t21.177057058262655\n",
       "  PKPY:\t28.877805079697776\n",
       "  PXPU:\t100.31820580255861\n",
       "  PYPU:\t49.68330660298151\n",
       "  RA:\t165.00751407836955\n"
      ]
     },
     "execution_count": 4,
     "metadata": {},
     "output_type": "execute_result"
    }
   ],
   "source": [
    "set_value(endow, 1.1)\n",
    "solve!(m)"
   ]
  },
  {
   "cell_type": "code",
   "execution_count": 5,
   "metadata": {},
   "outputs": [
    {
     "name": "stdout",
     "output_type": "stream",
     "text": [
      "Path 5.0.03 (Fri Jun 26 10:05:33 2020)\n",
      "Written by Todd Munson, Steven Dirkse, Youngdae Kim, and Michael Ferris\n",
      "Preprocessed size   : 14\n",
      "\n",
      "Crash Log\n",
      "major  func  diff  size  residual    step       prox   (label)\n",
      "    0     0             1.4828e+01             0.0e+00 (F_PL)\n",
      "    1     1     0    14 4.0345e-01  1.0e+00    0.0e+00 (F_X)\n",
      "pn_search terminated: no basis change.\n",
      "\n",
      "Major Iteration Log\n",
      "major minor  func  grad  residual    step  type prox    inorm  (label)\n",
      "    0     0     2     2 4.0345e-01           I 0.0e+00 2.8e-01 (F_X)\n",
      "    1     1     3     3 5.7862e-04  1.0e+00 SO 0.0e+00 3.4e-04 (F_X)\n",
      "    2     1     4     4 1.8977e-09  1.0e+00 SO 0.0e+00 1.2e-09 (F_X)\n",
      "\n",
      "Major Iterations. . . . 2\n",
      "Minor Iterations. . . . 2\n",
      "Restarts. . . . . . . . 0\n",
      "Crash Iterations. . . . 1\n",
      "Gradient Steps. . . . . 0\n",
      "Function Evaluations. . 4\n",
      "Gradient Evaluations. . 4\n",
      "Basis Time. . . . . . . 0.000000\n",
      "Total Time. . . . . . . 0.000000\n",
      "Residual. . . . . . . . 1.897732e-09\n",
      "Postsolved residual: 1.8977e-09\n"
     ]
    },
    {
     "data": {
      "text/plain": [
       "MPSGE model with 3 sectors, 5 commodities and 1 consumers.\n",
       "  Sectors: X (bm=1.0), Y (bm=1.0), U (bm=1.0)\n",
       "  Commodities: PX (bm=1.0), PY (bm=1.0), PU (bm=1.0), PL (bm=1.0), PK (bm=1.0)\n",
       "  Consumers: RA (bm=150.0)\n",
       "Solution:\n",
       "  X:\t1.0488088481874944\n",
       "  Y:\t1.0388601182572055\n",
       "  U:\t1.0454820635823234\n",
       "  PX:\t1.0\n",
       "  PY:\t1.0095765827762646\n",
       "  PU:\t1.0031820580255566\n",
       "  PL:\t0.9534625892390528\n",
       "  PK:\t1.0488088481827005\n",
       "  PLPX:\t52.4404424079557\n",
       "  PKPX:\t47.673129461363295\n",
       "  PLPY:\t21.17705705809265\n",
       "  PKPY:\t28.87780507930971\n",
       "  PXPU:\t100.31820580255413\n",
       "  PYPU:\t49.68330660298511\n",
       "  RA:\t157.3213272260231\n"
      ]
     },
     "execution_count": 5,
     "metadata": {},
     "output_type": "execute_result"
    }
   ],
   "source": [
    "MPSGE.set_fixed!(m, :PX, true)\n",
    "solve!(m)"
   ]
  },
  {
   "cell_type": "code",
   "execution_count": 6,
   "metadata": {},
   "outputs": [
    {
     "data": {
      "text/latex": [
       "$$ \\begin{alignat*}{3}\\\n",
       "& (50.0 * (PL ^ {50.0 / 100.0} * PK ^ {50.0 / 100.0})) / PL - PLPX\n",
       "\\quad && \\perp \\quad && PLPX\\\\& (50.0 * (PL ^ {50.0 / 100.0} * PK ^ {50.0 / 100.0})) / PK - PKPX\n",
       "\\quad && \\perp \\quad && PKPX\\\\& (20.0 * (PL ^ {20.0 / 50.0} * PK ^ {30.0 / 50.0})) / PL - PLPY\n",
       "\\quad && \\perp \\quad && PLPY\\\\& (30.0 * (PL ^ {20.0 / 50.0} * PK ^ {30.0 / 50.0})) / PK - PKPY\n",
       "\\quad && \\perp \\quad && PKPY\\\\& (100.0 * (PX ^ {100.0 / 150.0} * PY ^ {50.0 / 150.0})) / PX - PXPU\n",
       "\\quad && \\perp \\quad && PXPU\\\\& (50.0 * (PX ^ {100.0 / 150.0} * PY ^ {50.0 / 150.0})) / PY - PYPU\n",
       "\\quad && \\perp \\quad && PYPU\\\\& (PL * PLPX + PK * PKPX) - 100.0 * PX\n",
       "\\quad && \\perp \\quad && 0.0 <X\\\\& (PL * PLPY + PK * PKPY) - 50.0 * PY\n",
       "\\quad && \\perp \\quad && 0.0 <Y\\\\& (PX * PXPU + PY * PYPU) - 150.0 * PU\n",
       "\\quad && \\perp \\quad && 0.0 <U\\\\& (+(PXPU * U) + 0.0) - 100.0 * X\n",
       "\\quad && \\perp \\quad && PX = 1.0\\\\& (+(PYPU * U) + 0.0) - 50.0 * Y\n",
       "\\quad && \\perp \\quad && 0.001 <PY\\\\& (0.0 + +(RA / PU)) - 150.0 * U\n",
       "\\quad && \\perp \\quad && 0.001 <PU\\\\& ((PLPX * X + PLPY * Y) + 0.0) - +((0.0 + 70.0 * endow))\n",
       "\\quad && \\perp \\quad && 0.001 <PL\\\\& ((PKPX * X + PKPY * Y) + 0.0) - +((0.0 + 80.0))\n",
       "\\quad && \\perp \\quad && 0.001 <PK\\\\& ((70.0 * endow) * PL + 80.0 * PK) - RA\n",
       "\\quad && \\perp \\quad && RA\\\\\\end{alignat*}\n",
       " $$\n"
      ],
      "text/plain": [
       "Mixed complementarity problem with 15 constraints:\n",
       "  (50.0 * (PL ^ (50.0 / 100.0) * PK ^ (50.0 / 100.0))) / PL - PLPX    ┴  PLPX\n",
       "  (50.0 * (PL ^ (50.0 / 100.0) * PK ^ (50.0 / 100.0))) / PK - PKPX    ┴  PKPX\n",
       "  (20.0 * (PL ^ (20.0 / 50.0) * PK ^ (30.0 / 50.0))) / PL - PLPY      ┴  PLPY\n",
       "  (30.0 * (PL ^ (20.0 / 50.0) * PK ^ (30.0 / 50.0))) / PK - PKPY      ┴  PKPY\n",
       "  (100.0 * (PX ^ (100.0 / 150.0) * PY ^ (50.0 / 150.0))) / PX - PXPU  ┴  PXPU\n",
       "  (50.0 * (PX ^ (100.0 / 150.0) * PY ^ (50.0 / 150.0))) / PY - PYPU   ┴  PYPU\n",
       "  (PL * PLPX + PK * PKPX) - 100.0 * PX                                ┴  0.0 < X\n",
       "  (PL * PLPY + PK * PKPY) - 50.0 * PY                                 ┴  0.0 < Y\n",
       "  (PX * PXPU + PY * PYPU) - 150.0 * PU                                ┴  0.0 < U\n",
       "  (+(PXPU * U) + 0.0) - 100.0 * X                                     ┴  PX = 1.0\n",
       "  (+(PYPU * U) + 0.0) - 50.0 * Y                                      ┴  0.001 < PY\n",
       "  (0.0 + +(RA / PU)) - 150.0 * U                                      ┴  0.001 < PU\n",
       "  ((PLPX * X + PLPY * Y) + 0.0) - +((0.0 + 70.0 * endow))             ┴  0.001 < PL\n",
       "  ((PKPX * X + PKPY * Y) + 0.0) - +((0.0 + 80.0))                     ┴  0.001 < PK\n",
       "  ((70.0 * endow) * PL + 80.0 * PK) - RA                              ┴  RA\n"
      ]
     },
     "execution_count": 6,
     "metadata": {},
     "output_type": "execute_result"
    }
   ],
   "source": [
    "jm = algebraic_version(m)"
   ]
  }
 ],
 "metadata": {
  "kernelspec": {
   "display_name": "Julia 1.6.0",
   "language": "julia",
   "name": "julia-1.6"
  },
  "language_info": {
   "file_extension": ".jl",
   "mimetype": "application/julia",
   "name": "julia",
   "version": "1.6.0"
  }
 },
 "nbformat": 4,
 "nbformat_minor": 4
}
